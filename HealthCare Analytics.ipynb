{
 "cells": [
  {
   "cell_type": "code",
   "execution_count": null,
   "metadata": {},
   "outputs": [],
   "source": [
    "import pandas as pd\n",
    "import numpy as np\n",
    "import matplotlib.pyplot as plt\n",
    "import seaborn as sns\n",
    "import os\n",
    "from sklearn.metrics import accuracy_score\n",
    "from sklearn.model_selection import KFold,StratifiedKFold,RepeatedStratifiedKFold\n",
    "from lightgbm import LGBMClassifier\n",
    "import warnings\n",
    "warnings.filterwarnings('ignore')\n",
    "from sklearn.preprocessing import LabelEncoder,OneHotEncoder\n",
    "from sklearn.model_selection import train_test_split\n",
    "from catboost import CatBoostClassifier\n",
    "import timeit\n",
    "from xgboost import XGBClassifier"
   ]
  },
  {
   "cell_type": "code",
   "execution_count": null,
   "metadata": {},
   "outputs": [],
   "source": [
    "dataset=pd.read_csv('train_data.csv')"
   ]
  },
  {
   "cell_type": "code",
   "execution_count": null,
   "metadata": {},
   "outputs": [],
   "source": [
    "dataset.head()"
   ]
  },
  {
   "cell_type": "code",
   "execution_count": null,
   "metadata": {},
   "outputs": [],
   "source": [
    "dataset.info()"
   ]
  },
  {
   "cell_type": "code",
   "execution_count": null,
   "metadata": {},
   "outputs": [],
   "source": [
    "dataset.describe()"
   ]
  },
  {
   "cell_type": "code",
   "execution_count": null,
   "metadata": {},
   "outputs": [],
   "source": [
    "dataset.describe(include='object')"
   ]
  },
  {
   "cell_type": "code",
   "execution_count": null,
   "metadata": {},
   "outputs": [],
   "source": [
    "dataset.isnull().sum()"
   ]
  },
  {
   "cell_type": "code",
   "execution_count": null,
   "metadata": {},
   "outputs": [],
   "source": [
    "dataset['City_Code_Patient'].fillna(0,inplace=True)\n",
    "dataset['Bed Grade'].fillna(0,inplace=True)"
   ]
  },
  {
   "cell_type": "code",
   "execution_count": null,
   "metadata": {},
   "outputs": [],
   "source": [
    "dataset=dataset.drop(['case_id','patientid'],axis=1)"
   ]
  },
  {
   "cell_type": "code",
   "execution_count": null,
   "metadata": {},
   "outputs": [],
   "source": [
    "def frequency_encoding(dataset,column):\n",
    "    fe=dataset.groupby([column]).size()/len(dataset)\n",
    "    dataset[column]=dataset[column].apply(lambda x: fe[x])\n",
    "    return dataset"
   ]
  },
  {
   "cell_type": "code",
   "execution_count": null,
   "metadata": {},
   "outputs": [],
   "source": [
    "le=LabelEncoder()\n",
    "\n",
    "for col in dataset.select_dtypes(include='object').columns:\n",
    "    if col not in ['Age','Stay']:\n",
    "        frequency_encoding(dataset,col)\n",
    "    else:\n",
    "        dataset[col]=le.fit_transform(dataset[col])"
   ]
  },
  {
   "cell_type": "code",
   "execution_count": null,
   "metadata": {},
   "outputs": [],
   "source": [
    "dataset[['Bed Grade','City_Code_Patient']]=dataset[['Bed Grade','City_Code_Patient']].astype('int')"
   ]
  },
  {
   "cell_type": "code",
   "execution_count": null,
   "metadata": {},
   "outputs": [],
   "source": [
    "X=dataset.drop('Stay',axis=1)\n",
    "y=dataset['Stay']"
   ]
  },
  {
   "cell_type": "code",
   "execution_count": null,
   "metadata": {},
   "outputs": [],
   "source": [
    "lgbm_acc=[]\n",
    "\n",
    "kf=KFold(n_splits=5,shuffle=True)\n",
    "\n",
    "for i,(train_index,test_index) in enumerate(kf.split(X)):\n",
    "        \n",
    "    x_train, y_train = X.iloc[train_index,:], y.iloc[train_index] \n",
    "    x_test, y_test   = X.iloc[test_index,:], y.iloc[test_index]\n",
    "    \n",
    "    print('\\nFold : {}\\n'.format(i+1))\n",
    "    \n",
    "    lg=LGBMClassifier(learning_rate=0.04,objective='multi_class',num_class=11,n_estimators=1000,metric='multi_error') \n",
    "    \n",
    "    lg.fit(x_train, y_train,eval_metric='multi_error',eval_set=[(x_train, y_train),(x_test, y_test)]\n",
    "           ,early_stopping_rounds=100,verbose=50)\n",
    "\n",
    "    acc = accuracy_score(y_test,lg.predict(x_test))*100\n",
    "    lgbm_acc.append(acc)\n",
    "    print(\"Score : \",acc)  \n",
    "    \n",
    "print('\\nLGBM mean accuracy score: {}'.format((sum(acc_score)/5)))"
   ]
  },
  {
   "cell_type": "code",
   "execution_count": null,
   "metadata": {},
   "outputs": [],
   "source": [
    "cat_acc=[]\n",
    "\n",
    "kf=KFold(n_splits=5,shuffle=True)\n",
    "\n",
    "for i,(train_index,test_index) in enumerate(kf.split(X)):\n",
    "        \n",
    "    x_train, y_train = X.iloc[train_index,:], y.iloc[train_index] \n",
    "    x_test, y_test   = X.iloc[test_index,:], y.iloc[test_index]\n",
    "    \n",
    "    print('\\nFold : {}\\n'.format(i+1))\n",
    "    \n",
    "    catboost=CatBoostClassifier(learning_rate=0.04,eval_metric='Accuracy', n_estimators=1000, verbose=500) \n",
    "    \n",
    "    catboost.fit(x_train, y_train,eval_set=[(x_train, y_train),(x_test, y_test)],early_stopping_rounds=100,verbose=50)\n",
    "\n",
    "    acc = accuracy_score(y_test,catboost.predict(x_test))*100\n",
    "    cat_acc.append(acc)\n",
    "    print(\"Score : \",cat_acc)  \n",
    "    \n",
    "print('\\nCatboost mean accuracy score: {}'.format((sum(cat_acc)/5)))"
   ]
  },
  {
   "cell_type": "code",
   "execution_count": null,
   "metadata": {},
   "outputs": [],
   "source": []
  },
  {
   "cell_type": "code",
   "execution_count": null,
   "metadata": {},
   "outputs": [],
   "source": []
  },
  {
   "cell_type": "code",
   "execution_count": null,
   "metadata": {},
   "outputs": [],
   "source": []
  },
  {
   "cell_type": "code",
   "execution_count": null,
   "metadata": {},
   "outputs": [],
   "source": []
  },
  {
   "cell_type": "code",
   "execution_count": null,
   "metadata": {},
   "outputs": [],
   "source": []
  },
  {
   "cell_type": "code",
   "execution_count": null,
   "metadata": {},
   "outputs": [],
   "source": []
  }
 ],
 "metadata": {
  "kernelspec": {
   "display_name": "Python 3",
   "language": "python",
   "name": "python3"
  },
  "language_info": {
   "codemirror_mode": {
    "name": "ipython",
    "version": 3
   },
   "file_extension": ".py",
   "mimetype": "text/x-python",
   "name": "python",
   "nbconvert_exporter": "python",
   "pygments_lexer": "ipython3",
   "version": "3.6.9"
  }
 },
 "nbformat": 4,
 "nbformat_minor": 4
}
